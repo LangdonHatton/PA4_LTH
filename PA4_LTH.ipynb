{
 "cells": [
  {
   "cell_type": "markdown",
   "id": "db429bac",
   "metadata": {},
   "source": [
    "# Langdon Hatton\n",
    "## Class assignment #2\n",
    "## 150-01"
   ]
  },
  {
   "cell_type": "code",
   "execution_count": null,
   "id": "be2571b8",
   "metadata": {},
   "outputs": [],
   "source": [
    "friends=['Jay', 'Ben', 'Curt', 'zach']"
   ]
  },
  {
   "cell_type": "code",
   "execution_count": 2,
   "id": "3bd8f525",
   "metadata": {},
   "outputs": [
    {
     "name": "stdout",
     "output_type": "stream",
     "text": [
      "['Jay', 'Ben', 'Curt', 'zach', 'Eli']\n"
     ]
    }
   ],
   "source": [
    "friends.append('Eli')\n",
    "print(friends)"
   ]
  },
  {
   "cell_type": "markdown",
   "id": "95c6e0b9",
   "metadata": {},
   "source": [
    "### when you use the append function, it will put whatever you append to the end of the list"
   ]
  },
  {
   "cell_type": "code",
   "execution_count": 3,
   "id": "b0c16981",
   "metadata": {},
   "outputs": [
    {
     "name": "stdout",
     "output_type": "stream",
     "text": [
      "['Jay', 'Ben', 'Curt', 'zach', 'Eli', 'Zac', 'Landin', 'Pete', 'Bova', 'Jaylen']\n"
     ]
    }
   ],
   "source": [
    "BFF=['Zac', 'Landin', 'Pete', 'Bova', 'Jaylen']\n",
    "friends.extend(BFF)\n",
    "print(friends)\n"
   ]
  },
  {
   "cell_type": "markdown",
   "id": "b6d36269",
   "metadata": {},
   "source": [
    "### the extend function extends a list by pairing it with another list"
   ]
  },
  {
   "cell_type": "code",
   "execution_count": 4,
   "id": "4c58ca7e",
   "metadata": {},
   "outputs": [
    {
     "name": "stdout",
     "output_type": "stream",
     "text": [
      "['Zac', 'Landin', 'Billy', 'Pete', 'Bova', 'Jaylen']\n"
     ]
    }
   ],
   "source": [
    "BFF.insert(2, 'Billy')\n",
    "print(BFF)"
   ]
  },
  {
   "cell_type": "markdown",
   "id": "f750f8ae",
   "metadata": {},
   "source": [
    "### The insert command insert a variable into a list. You must choose the position that you would like it to insert into to"
   ]
  },
  {
   "cell_type": "code",
   "execution_count": 8,
   "id": "d065a7fa",
   "metadata": {},
   "outputs": [
    {
     "data": {
      "text/plain": [
       "['Billy', 'Pete', 'Bova', 'Jaylen']"
      ]
     },
     "execution_count": 8,
     "metadata": {},
     "output_type": "execute_result"
    }
   ],
   "source": [
    "BFF.remove('Zac')\n",
    "BFF"
   ]
  },
  {
   "cell_type": "markdown",
   "id": "1226f6a2",
   "metadata": {},
   "source": [
    "### The remove command will remove an item from a list, use the exact number or word in the list to remove it"
   ]
  },
  {
   "cell_type": "code",
   "execution_count": 16,
   "id": "abeaac4f",
   "metadata": {},
   "outputs": [
    {
     "data": {
      "text/plain": [
       "1"
      ]
     },
     "execution_count": 16,
     "metadata": {},
     "output_type": "execute_result"
    }
   ],
   "source": [
    "BFF.count('Pete')\n"
   ]
  },
  {
   "cell_type": "markdown",
   "id": "4a552a9c",
   "metadata": {},
   "source": [
    "### The count command will count how many times a number or word appears in a list"
   ]
  },
  {
   "cell_type": "code",
   "execution_count": 17,
   "id": "26b9eb0d",
   "metadata": {},
   "outputs": [
    {
     "data": {
      "text/plain": [
       "2"
      ]
     },
     "execution_count": 17,
     "metadata": {},
     "output_type": "execute_result"
    }
   ],
   "source": [
    "BFF.index('Bova')"
   ]
  },
  {
   "cell_type": "markdown",
   "id": "26443c3a",
   "metadata": {},
   "source": [
    "### The index command will find the index of the first time an object appears in your list"
   ]
  },
  {
   "cell_type": "code",
   "execution_count": 19,
   "id": "a68e49a4",
   "metadata": {},
   "outputs": [
    {
     "data": {
      "text/plain": [
       "['Billy', 'Pete', 'Bova']"
      ]
     },
     "execution_count": 19,
     "metadata": {},
     "output_type": "execute_result"
    }
   ],
   "source": [
    "BFF.pop(-1)\n",
    "BFF"
   ]
  },
  {
   "cell_type": "markdown",
   "id": "f45ce58c",
   "metadata": {},
   "source": [
    "### If you use the pop command, you choose the index of the item you want to pop and it will remove it from your list"
   ]
  },
  {
   "cell_type": "code",
   "execution_count": 20,
   "id": "8f40a040",
   "metadata": {},
   "outputs": [
    {
     "name": "stdout",
     "output_type": "stream",
     "text": [
      "['Billy', 'Bova', 'Pete']\n"
     ]
    }
   ],
   "source": [
    "print(sorted(BFF))"
   ]
  },
  {
   "cell_type": "markdown",
   "id": "78f66ea9",
   "metadata": {},
   "source": [
    "### The sorted command sorts a list alphabetically or numerically"
   ]
  },
  {
   "cell_type": "code",
   "execution_count": 26,
   "id": "aeb550aa",
   "metadata": {},
   "outputs": [
    {
     "name": "stdout",
     "output_type": "stream",
     "text": [
      "['Billy', 'Pete', 'Bova']\n"
     ]
    }
   ],
   "source": [
    "print(BFF.copy())"
   ]
  },
  {
   "cell_type": "markdown",
   "id": "1b61f334",
   "metadata": {},
   "source": [
    "## The .copy command creates a copy of the list without modifying it"
   ]
  },
  {
   "cell_type": "code",
   "execution_count": 28,
   "id": "60b595f0",
   "metadata": {},
   "outputs": [
    {
     "name": "stdout",
     "output_type": "stream",
     "text": [
      "[]\n"
     ]
    }
   ],
   "source": [
    "BFF.clear()\n",
    "print(BFF)"
   ]
  },
  {
   "cell_type": "markdown",
   "id": "050dce7e",
   "metadata": {},
   "source": [
    "## The clear command clears awhole list or parts of a list"
   ]
  },
  {
   "cell_type": "code",
   "execution_count": 31,
   "id": "54350565",
   "metadata": {},
   "outputs": [
    {
     "name": "stdout",
     "output_type": "stream",
     "text": [
      "['h', 'i']\n"
     ]
    }
   ],
   "source": [
    "x=list('hi')\n",
    "print(x)"
   ]
  },
  {
   "cell_type": "markdown",
   "id": "ed3fa15b",
   "metadata": {},
   "source": [
    "## The list command breaks up strings into individual parts"
   ]
  },
  {
   "cell_type": "code",
   "execution_count": 32,
   "id": "7283061d",
   "metadata": {},
   "outputs": [
    {
     "data": {
      "text/plain": [
       "6"
      ]
     },
     "execution_count": 32,
     "metadata": {},
     "output_type": "execute_result"
    }
   ],
   "source": [
    "lists='python'\n",
    "len(lists)"
   ]
  },
  {
   "cell_type": "markdown",
   "id": "216681cf",
   "metadata": {},
   "source": [
    "## The len command counts how many characters are in a number or word"
   ]
  },
  {
   "cell_type": "code",
   "execution_count": 34,
   "id": "fcc5a699",
   "metadata": {},
   "outputs": [
    {
     "data": {
      "text/plain": [
       "44"
      ]
     },
     "execution_count": 34,
     "metadata": {},
     "output_type": "execute_result"
    }
   ],
   "source": [
    "num=(1,2,3,4,32,44)\n",
    "max(num)\n"
   ]
  },
  {
   "cell_type": "code",
   "execution_count": 35,
   "id": "b284cdbb",
   "metadata": {},
   "outputs": [
    {
     "data": {
      "text/plain": [
       "1"
      ]
     },
     "execution_count": 35,
     "metadata": {},
     "output_type": "execute_result"
    }
   ],
   "source": [
    "min(num)"
   ]
  },
  {
   "cell_type": "markdown",
   "id": "85ba613f",
   "metadata": {},
   "source": [
    "## the max and min command prints either the biggest or smallest values in a list"
   ]
  }
 ],
 "metadata": {
  "kernelspec": {
   "display_name": "Python 3 (ipykernel)",
   "language": "python",
   "name": "python3"
  },
  "language_info": {
   "codemirror_mode": {
    "name": "ipython",
    "version": 3
   },
   "file_extension": ".py",
   "mimetype": "text/x-python",
   "name": "python",
   "nbconvert_exporter": "python",
   "pygments_lexer": "ipython3",
   "version": "3.9.12"
  }
 },
 "nbformat": 4,
 "nbformat_minor": 5
}
